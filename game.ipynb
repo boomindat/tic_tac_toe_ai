{
 "cells": [
  {
   "cell_type": "code",
   "execution_count": 10,
   "metadata": {},
   "outputs": [],
   "source": [
    "from tree import Node\n",
    "from game import Tic_Tac_Toe\n",
    "from game import RandPlayer, SmartPlayer\n",
    "import random"
   ]
  },
  {
   "cell_type": "code",
   "execution_count": 2,
   "metadata": {},
   "outputs": [],
   "source": [
    "player1 = RandPlayer()\n",
    "\n",
    "start_player = 'max'\n",
    "game = Tic_Tac_Toe(X='max', O='min', ai=player1, starter=start_player)\n"
   ]
  },
  {
   "cell_type": "code",
   "execution_count": 3,
   "metadata": {},
   "outputs": [],
   "source": [
    "init_state = game.board_status"
   ]
  },
  {
   "cell_type": "code",
   "execution_count": 4,
   "metadata": {},
   "outputs": [],
   "source": [
    "# init_state"
   ]
  },
  {
   "cell_type": "code",
   "execution_count": 5,
   "metadata": {},
   "outputs": [],
   "source": [
    "# game.possible_moves(init_state)"
   ]
  },
  {
   "cell_type": "code",
   "execution_count": 6,
   "metadata": {},
   "outputs": [],
   "source": [
    "# next_player = 'max'\n",
    "# new_state = init_state\n",
    "# while True:\n",
    "#     actions = game.possible_moves(init_state)\n",
    "#     r = random.randint(0, len(actions) - 1)\n",
    "#     action = actions[r]\n",
    "#     new_state, next_player, is_over, utility = game.simulate_play(state=new_state, \n",
    "#                                                                   player=next_player,\n",
    "#                                                                     x=action[0], y=action[1])\n",
    "#     print(new_state, next_player, is_over, utility)\n",
    "#     if is_over:\n",
    "#         break"
   ]
  },
  {
   "cell_type": "code",
   "execution_count": 7,
   "metadata": {},
   "outputs": [
    {
     "name": "stdout",
     "output_type": "stream",
     "text": [
      "Starting to think\n",
      "Finished thinking. Now determining values\n",
      "Done with the thinkg. Let\"s play\n"
     ]
    }
   ],
   "source": [
    "from main import think, minmax\n",
    "\n",
    "id2node = {}\n",
    "print('Starting to think')\n",
    "root_node = think()\n",
    "print('Finished thinking. Now determining values')\n",
    "minmax(root_node, id2node)\n",
    "print('Done with the thinkg. Let\"s play')"
   ]
  },
  {
   "cell_type": "code",
   "execution_count": 11,
   "metadata": {},
   "outputs": [
    {
     "name": "stdout",
     "output_type": "stream",
     "text": [
      "Min: 46.02%, Max: 18.95%, Tie: 35.03%\n"
     ]
    }
   ],
   "source": [
    "\n",
    "player1 = SmartPlayer(id2node)\n",
    "\n",
    "# player1 = RandPlayer()\n",
    "player2 = RandPlayer()\n",
    "\n",
    "start_player='max'\n",
    "game_instance = Tic_Tac_Toe(X='max', O='min', ai=player1, starter=start_player)\n",
    "\n",
    "n_games = 10000\n",
    "next_state = game_instance.board_status\n",
    "next_player = start_player\n",
    "\n",
    "scores = {'min':0, 'max':0, 'tie': 0}\n",
    "for i in range(n_games):\n",
    "    while True:\n",
    "        actions = game_instance.possible_moves(next_state)\n",
    "        # print(next_player, state_to_id(next_state))\n",
    "        if next_player == 'max':\n",
    "            action = player1('max', next_state, actions)\n",
    "        else:\n",
    "            action = player2('min', next_state, actions)\n",
    "        x, y = action\n",
    "        prev_player = next_player\n",
    "        next_state, next_player, is_over, utility = game_instance.simulate_play(next_state, next_player, x, y)\n",
    "        # print(x, y, next_player, state_to_id(next_state))\n",
    "        if is_over:\n",
    "            if utility == 1:\n",
    "                scores[prev_player] += 1\n",
    "            else:\n",
    "                scores['tie'] += 1\n",
    "            next_player = start_player\n",
    "            next_state = game_instance.reset_game_state(starter=start_player)\n",
    "            break\n",
    "\n",
    "min_win = scores['min'] * 100 / n_games\n",
    "max_win = scores['max']  * 100/ n_games\n",
    "tie = scores['tie']  * 100 / n_games\n",
    "print(f'Min: {min_win}%, Max: {max_win}%, Tie: {tie}%')"
   ]
  },
  {
   "cell_type": "code",
   "execution_count": 13,
   "metadata": {},
   "outputs": [
    {
     "data": {
      "text/plain": [
       "[-1, -1, -1, -1, 0, -1, -1, -1, -1]"
      ]
     },
     "execution_count": 13,
     "metadata": {},
     "output_type": "execute_result"
    }
   ],
   "source": [
    "[n.value for n in root_node.children.values()]"
   ]
  },
  {
   "cell_type": "code",
   "execution_count": 16,
   "metadata": {},
   "outputs": [
    {
     "data": {
      "text/plain": [
       "-1"
      ]
     },
     "execution_count": 16,
     "metadata": {},
     "output_type": "execute_result"
    }
   ],
   "source": []
  },
  {
   "cell_type": "code",
   "execution_count": null,
   "metadata": {},
   "outputs": [],
   "source": []
  }
 ],
 "metadata": {
  "kernelspec": {
   "display_name": "base",
   "language": "python",
   "name": "python3"
  },
  "language_info": {
   "codemirror_mode": {
    "name": "ipython",
    "version": 3
   },
   "file_extension": ".py",
   "mimetype": "text/x-python",
   "name": "python",
   "nbconvert_exporter": "python",
   "pygments_lexer": "ipython3",
   "version": "3.9.5"
  },
  "orig_nbformat": 4
 },
 "nbformat": 4,
 "nbformat_minor": 2
}
